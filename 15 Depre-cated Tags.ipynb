{
 "cells": [
  {
   "cell_type": "markdown",
   "id": "d19f4965-e5d9-4485-b6cf-92ef54e5dca8",
   "metadata": {},
   "source": [
    "# Deprecated / Not Used Tags\n",
    "\n",
    "- Deprecated: This feature is no longer recommended. Though some browsers might still support it, it may have already been removed from the relevant web standards, may be in the process of being dropped, or may only be kept for compatibility purposes. Avoid using it, and update existing code if possible; see the compatibility table at the bottom of this page to guide your decision. Be aware that this feature may cease to work at any time.\n",
    "\n",
    "- Not Used: The tags are no longer used in Modern website due to vast HTML, CSS & JS libraries availability\n",
    "\n",
    "1. abbr\n",
    "2. area\n",
    "3. aside\n",
    "4. base\n",
    "5. badi\n",
    "6. bdo\n",
    "7. big D\n",
    "8. center D \n",
    "9. dfn\n",
    "10. dialog\n",
    "11. dir D \n",
    "12. fenceFramed D\n",
    "13. figcaption\n",
    "14. figure\n",
    "15. font D\n",
    "16. hgroup\n",
    "17. kbd\n",
    "18. menu\n",
    "19. menuitem D\n",
    "20. nobr\n",
    "21. noembeded D\n",
    "22. noframes D\n",
    "23. noscript D\n",
    "24. object\n",
    "25. param D\n",
    "26. picture\n",
    "27. plaintext D\n",
    "28. portal D\n",
    "29. ruby\n",
    "30. samp\n",
    "31. search\n",
    "32. slot\n",
    "33. source\n",
    "34. strike D\n",
    "35. template\n",
    "36. tfoot\n",
    "37. time\n",
    "38. tt D\n",
    "39. wbr\n",
    "40. xmp D\n",
    "41. frameset D\n",
    "42. frame D\n",
    "\n",
    "***Bullets marked with 'D' are Deprecated***"
   ]
  }
 ],
 "metadata": {
  "kernelspec": {
   "display_name": "Python 3 (ipykernel)",
   "language": "python",
   "name": "python3"
  },
  "language_info": {
   "codemirror_mode": {
    "name": "ipython",
    "version": 3
   },
   "file_extension": ".py",
   "mimetype": "text/x-python",
   "name": "python",
   "nbconvert_exporter": "python",
   "pygments_lexer": "ipython3",
   "version": "3.11.0"
  }
 },
 "nbformat": 4,
 "nbformat_minor": 5
}
